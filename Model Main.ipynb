{
 "cells": [
  {
   "cell_type": "code",
   "execution_count": 2,
   "id": "874a73d8",
   "metadata": {},
   "outputs": [],
   "source": [
    "import warnings\n",
    "warnings.filterwarnings('ignore')"
   ]
  },
  {
   "cell_type": "code",
   "execution_count": 3,
   "id": "ec9f3373",
   "metadata": {},
   "outputs": [],
   "source": [
    "import pandas as pd\n",
    "import re\n",
    "from tensorflow.keras.preprocessing.text import Tokenizer\n",
    "from tensorflow.keras.preprocessing.sequence import pad_sequences\n",
    "from tensorflow.keras.models import Sequential\n",
    "from tensorflow.keras.layers import Embedding, LSTM, Dense\n",
    "from tensorflow.keras.utils import to_categorical\n",
    "import numpy as np"
   ]
  },
  {
   "cell_type": "code",
   "execution_count": 4,
   "id": "205e99fb",
   "metadata": {},
   "outputs": [],
   "source": [
    "def preprocess_text(text):\n",
    "    text = re.sub(r'[^\\w\\s]', '', str(text).lower().strip())\n",
    "    return text"
   ]
  },
  {
   "cell_type": "code",
   "execution_count": 5,
   "id": "1e0ebe53",
   "metadata": {},
   "outputs": [],
   "source": [
    "df = pd.read_csv('Twitter_data.csv')\n",
    "df['clean_text'] = df['clean_text'].apply(preprocess_text)\n",
    "valid_categories = [-1, 0, 1]\n",
    "df = df[df['category'].isin(valid_categories)]\n",
    "category_mapping = {-1: 0, 0: 1, 1: 2}\n",
    "df['category'] = df['category'].map(category_mapping)"
   ]
  },
  {
   "cell_type": "code",
   "execution_count": 6,
   "id": "c83a4bf4",
   "metadata": {},
   "outputs": [],
   "source": [
    "tokenizer = Tokenizer()\n",
    "tokenizer.fit_on_texts(df['clean_text'])\n",
    "sequences = tokenizer.texts_to_sequences(df['clean_text'])\n",
    "max_len = max(len(seq) for seq in sequences)\n",
    "padded_sequences = pad_sequences(sequences, maxlen=max_len, padding='post')\n",
    "labels = to_categorical(df['category'], num_classes=3)"
   ]
  },
  {
   "cell_type": "code",
   "execution_count": 7,
   "id": "894326c8",
   "metadata": {},
   "outputs": [],
   "source": [
    "vocab_size = len(tokenizer.word_index) + 1\n",
    "embedding_dim = 100\n",
    "model = Sequential()\n",
    "model.add(Embedding(input_dim=vocab_size, output_dim=embedding_dim, input_length=max_len))\n",
    "model.add(LSTM(units=128))\n",
    "model.add(Dense(units=3, activation='softmax'))\n",
    "model.compile(optimizer='adam', loss='categorical_crossentropy', metrics=['accuracy'])"
   ]
  },
  {
   "cell_type": "code",
   "execution_count": 8,
   "id": "2cbc9f94",
   "metadata": {},
   "outputs": [
    {
     "name": "stdout",
     "output_type": "stream",
     "text": [
      "Epoch 1/10\n",
      "\u001b[1m4075/4075\u001b[0m \u001b[32m━━━━━━━━━━━━━━━━━━━━\u001b[0m\u001b[37m\u001b[0m \u001b[1m301s\u001b[0m 74ms/step - accuracy: 0.7677 - loss: 0.5554 - val_accuracy: 0.9525 - val_loss: 0.1594\n",
      "Epoch 2/10\n",
      "\u001b[1m4075/4075\u001b[0m \u001b[32m━━━━━━━━━━━━━━━━━━━━\u001b[0m\u001b[37m\u001b[0m \u001b[1m297s\u001b[0m 73ms/step - accuracy: 0.9654 - loss: 0.1124 - val_accuracy: 0.9694 - val_loss: 0.1020\n",
      "Epoch 3/10\n",
      "\u001b[1m4075/4075\u001b[0m \u001b[32m━━━━━━━━━━━━━━━━━━━━\u001b[0m\u001b[37m\u001b[0m \u001b[1m300s\u001b[0m 74ms/step - accuracy: 0.9816 - loss: 0.0607 - val_accuracy: 0.9640 - val_loss: 0.1181\n",
      "Epoch 4/10\n",
      "\u001b[1m4075/4075\u001b[0m \u001b[32m━━━━━━━━━━━━━━━━━━━━\u001b[0m\u001b[37m\u001b[0m \u001b[1m300s\u001b[0m 74ms/step - accuracy: 0.9886 - loss: 0.0382 - val_accuracy: 0.9646 - val_loss: 0.1287\n",
      "Epoch 5/10\n",
      "\u001b[1m4075/4075\u001b[0m \u001b[32m━━━━━━━━━━━━━━━━━━━━\u001b[0m\u001b[37m\u001b[0m \u001b[1m301s\u001b[0m 74ms/step - accuracy: 0.9928 - loss: 0.0234 - val_accuracy: 0.9633 - val_loss: 0.1452\n",
      "Epoch 6/10\n",
      "\u001b[1m4075/4075\u001b[0m \u001b[32m━━━━━━━━━━━━━━━━━━━━\u001b[0m\u001b[37m\u001b[0m \u001b[1m302s\u001b[0m 74ms/step - accuracy: 0.9956 - loss: 0.0142 - val_accuracy: 0.9605 - val_loss: 0.1468\n",
      "Epoch 7/10\n",
      "\u001b[1m4075/4075\u001b[0m \u001b[32m━━━━━━━━━━━━━━━━━━━━\u001b[0m\u001b[37m\u001b[0m \u001b[1m303s\u001b[0m 74ms/step - accuracy: 0.9973 - loss: 0.0087 - val_accuracy: 0.9570 - val_loss: 0.2082\n",
      "Epoch 8/10\n",
      "\u001b[1m4075/4075\u001b[0m \u001b[32m━━━━━━━━━━━━━━━━━━━━\u001b[0m\u001b[37m\u001b[0m \u001b[1m304s\u001b[0m 74ms/step - accuracy: 0.9978 - loss: 0.0069 - val_accuracy: 0.9569 - val_loss: 0.2212\n",
      "Epoch 9/10\n",
      "\u001b[1m4075/4075\u001b[0m \u001b[32m━━━━━━━━━━━━━━━━━━━━\u001b[0m\u001b[37m\u001b[0m \u001b[1m304s\u001b[0m 74ms/step - accuracy: 0.9989 - loss: 0.0038 - val_accuracy: 0.9565 - val_loss: 0.2027\n",
      "Epoch 10/10\n",
      "\u001b[1m4075/4075\u001b[0m \u001b[32m━━━━━━━━━━━━━━━━━━━━\u001b[0m\u001b[37m\u001b[0m \u001b[1m303s\u001b[0m 74ms/step - accuracy: 0.9992 - loss: 0.0034 - val_accuracy: 0.9591 - val_loss: 0.2173\n"
     ]
    },
    {
     "data": {
      "text/plain": [
       "<keras.src.callbacks.history.History at 0x1ccf42c0460>"
      ]
     },
     "execution_count": 8,
     "metadata": {},
     "output_type": "execute_result"
    }
   ],
   "source": [
    "model.fit(padded_sequences, labels, epochs=10, batch_size=32, validation_split=0.2)"
   ]
  },
  {
   "cell_type": "code",
   "execution_count": 9,
   "id": "70f1b09f",
   "metadata": {
    "scrolled": true
   },
   "outputs": [
    {
     "name": "stdout",
     "output_type": "stream",
     "text": [
      "Model weights saved successfully.\n"
     ]
    }
   ],
   "source": [
    "model.save_weights('sentiment_model1.weights.h5')\n",
    "print(\"Model weights saved successfully.\")"
   ]
  },
  {
   "cell_type": "code",
   "execution_count": 1,
   "id": "95d21f3b",
   "metadata": {
    "scrolled": true
   },
   "outputs": [
    {
     "name": "stdout",
     "output_type": "stream",
     "text": [
      "Model weights loaded successfully.\n",
      "Enter text (Press Enter with blank textbox to exit): I like pizza\n",
      "\u001b[1m1/1\u001b[0m \u001b[32m━━━━━━━━━━━━━━━━━━━━\u001b[0m\u001b[37m\u001b[0m \u001b[1m0s\u001b[0m 248ms/step\n",
      "Predicted sentiment: Positive\n",
      "Enter text (Press Enter with blank textbox to exit): I hate pizza\n",
      "\u001b[1m1/1\u001b[0m \u001b[32m━━━━━━━━━━━━━━━━━━━━\u001b[0m\u001b[37m\u001b[0m \u001b[1m0s\u001b[0m 11ms/step\n",
      "Predicted sentiment: Negative\n",
      "Enter text (Press Enter with blank textbox to exit): Hello\n",
      "\u001b[1m1/1\u001b[0m \u001b[32m━━━━━━━━━━━━━━━━━━━━\u001b[0m\u001b[37m\u001b[0m \u001b[1m0s\u001b[0m 10ms/step\n",
      "Predicted sentiment: Positive\n",
      "Enter text (Press Enter with blank textbox to exit): \n",
      "Exited\n"
     ]
    }
   ],
   "source": [
    "import warnings\n",
    "warnings.filterwarnings('ignore')\n",
    "\n",
    "import pandas as pd\n",
    "import re\n",
    "from tensorflow.keras.preprocessing.text import Tokenizer\n",
    "from tensorflow.keras.preprocessing.sequence import pad_sequences\n",
    "from tensorflow.keras.models import Sequential\n",
    "from tensorflow.keras.layers import Embedding, LSTM, Dense\n",
    "import numpy as np\n",
    "\n",
    "df = pd.read_csv('Twitter_data.csv')\n",
    "\n",
    "def preprocess_text(text):\n",
    "    text = re.sub(r'[^\\w\\s]', '', str(text).lower().strip())\n",
    "    return text\n",
    "\n",
    "df['clean_text'] = df['clean_text'].apply(preprocess_text)\n",
    "\n",
    "valid_categories = [-1, 0, 1]\n",
    "df = df[df['category'].isin(valid_categories)]\n",
    "category_mapping = {-1: 0, 0: 1, 1: 2}\n",
    "df['category'] = df['category'].map(category_mapping)\n",
    "\n",
    "tokenizer = Tokenizer()\n",
    "tokenizer.fit_on_texts(df['clean_text'])\n",
    "sequences = tokenizer.texts_to_sequences(df['clean_text'])\n",
    "max_len = max(len(seq) for seq in sequences)\n",
    "padded_sequences = pad_sequences(sequences, maxlen=max_len, padding='post')\n",
    "\n",
    "vocab_size = len(tokenizer.word_index) + 1\n",
    "embedding_dim = 100\n",
    "\n",
    "model = Sequential()\n",
    "model.add(Embedding(input_dim=vocab_size, output_dim=embedding_dim, input_length=max_len))\n",
    "model.add(LSTM(units=128))\n",
    "model.add(Dense(units=3, activation='softmax'))\n",
    "\n",
    "model.build((None, max_len))\n",
    "\n",
    "model.load_weights('sentiment_model1.weights.h5')\n",
    "print(\"Model weights loaded successfully.\")\n",
    "\n",
    "def predict_sentiment(input_text):\n",
    "    input_text = preprocess_text(input_text)\n",
    "    input_sequence = tokenizer.texts_to_sequences([input_text])\n",
    "    padded_sequence = pad_sequences(input_sequence, maxlen=max_len, padding='post')\n",
    "    \n",
    "    prediction = model.predict(padded_sequence)\n",
    "    predicted_class = np.argmax(prediction, axis=1)[0]\n",
    "    \n",
    "    sentiment_labels = {-1: 'Neutral', 0: 'Negative', 1: 'Positive'}\n",
    "    predicted_sentiment = sentiment_labels[predicted_class]\n",
    "    \n",
    "    return predicted_sentiment\n",
    "\n",
    "while True:\n",
    "    input_text = input(\"Enter text (Press Enter with blank textbox to exit): \")\n",
    "    \n",
    "    if input_text == '':\n",
    "        print(\"Exited\")\n",
    "        break\n",
    "    \n",
    "    predicted_sentiment = predict_sentiment(input_text)\n",
    "    print(f\"Predicted sentiment: {predicted_sentiment}\")"
   ]
  }
 ],
 "metadata": {
  "kernelspec": {
   "display_name": "Python 3 (ipykernel)",
   "language": "python",
   "name": "python3"
  },
  "language_info": {
   "codemirror_mode": {
    "name": "ipython",
    "version": 3
   },
   "file_extension": ".py",
   "mimetype": "text/x-python",
   "name": "python",
   "nbconvert_exporter": "python",
   "pygments_lexer": "ipython3",
   "version": "3.9.13"
  }
 },
 "nbformat": 4,
 "nbformat_minor": 5
}
